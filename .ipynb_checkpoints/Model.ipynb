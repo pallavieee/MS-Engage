{
  "nbformat": 4,
  "nbformat_minor": 0,
  "metadata": {
    "colab": {
      "name": "Model.ipynb",
      "provenance": [],
      "collapsed_sections": []
    },
    "kernelspec": {
      "name": "python3",
      "display_name": "Python 3"
    },
    "language_info": {
      "name": "python"
    }
  },
  "cells": [
    {
      "cell_type": "code",
      "execution_count": null,
      "metadata": {
        "id": "UBtIH64Kn4ci"
      },
      "outputs": [],
      "source": [
        "import numpy as np\n",
        "import pandas as pd\n",
        "import joblib\n",
        "from sklearn.metrics.pairwise import cosine_similarity\n",
        "from sklearn.metrics import mean_squared_error\n",
        "from sklearn.model_selection import train_test_split\n",
        "from sklearn.feature_extraction.text import TfidfVectorizer\n",
        "from sklearn.metrics.pairwise import linear_kernel\n",
        "#putting movies data on 'movies' dataframe\n",
        "movies = pd.read_csv('main_data.csv')"
      ]
    },
    {
      "cell_type": "code",
      "source": [
        "movies.head(5)"
      ],
      "metadata": {
        "colab": {
          "base_uri": "https://localhost:8080/",
          "height": 337
        },
        "id": "oHXbHimDoFbD",
        "outputId": "aca1f18f-b63d-4ab2-c009-38eaa70b8b45"
      },
      "execution_count": null,
      "outputs": [
        {
          "output_type": "execute_result",
          "data": {
            "text/plain": [
              "       director_name     actor_1_name      actor_2_name          actor_3_name  \\\n",
              "0      James Cameron      CCH Pounder  Joel David Moore             Wes Studi   \n",
              "1     Gore Verbinski      Johnny Depp     Orlando Bloom        Jack Davenport   \n",
              "2         Sam Mendes  Christoph Waltz      Rory Kinnear      Stephanie Sigman   \n",
              "3  Christopher Nolan        Tom Hardy    Christian Bale  Joseph Gordon-Levitt   \n",
              "4        Doug Walker      Doug Walker        Rob Walker               unknown   \n",
              "\n",
              "                            genres  \\\n",
              "0  Action Adventure Fantasy Sci-Fi   \n",
              "1         Action Adventure Fantasy   \n",
              "2        Action Adventure Thriller   \n",
              "3                  Action Thriller   \n",
              "4                      Documentary   \n",
              "\n",
              "                                         movie_title  \\\n",
              "0                                             avatar   \n",
              "1           pirates of the caribbean: at world's end   \n",
              "2                                            spectre   \n",
              "3                              the dark knight rises   \n",
              "4  star wars: episode vii - the force awakens    ...   \n",
              "\n",
              "                                                comb  \n",
              "0  CCH Pounder Joel David Moore Wes Studi James C...  \n",
              "1  Johnny Depp Orlando Bloom Jack Davenport Gore ...  \n",
              "2  Christoph Waltz Rory Kinnear Stephanie Sigman ...  \n",
              "3  Tom Hardy Christian Bale Joseph Gordon-Levitt ...  \n",
              "4  Doug Walker Rob Walker unknown Doug Walker Doc...  "
            ],
            "text/html": [
              "\n",
              "  <div id=\"df-6a8d2b74-4bb8-40f8-a763-0b29514c8e7f\">\n",
              "    <div class=\"colab-df-container\">\n",
              "      <div>\n",
              "<style scoped>\n",
              "    .dataframe tbody tr th:only-of-type {\n",
              "        vertical-align: middle;\n",
              "    }\n",
              "\n",
              "    .dataframe tbody tr th {\n",
              "        vertical-align: top;\n",
              "    }\n",
              "\n",
              "    .dataframe thead th {\n",
              "        text-align: right;\n",
              "    }\n",
              "</style>\n",
              "<table border=\"1\" class=\"dataframe\">\n",
              "  <thead>\n",
              "    <tr style=\"text-align: right;\">\n",
              "      <th></th>\n",
              "      <th>director_name</th>\n",
              "      <th>actor_1_name</th>\n",
              "      <th>actor_2_name</th>\n",
              "      <th>actor_3_name</th>\n",
              "      <th>genres</th>\n",
              "      <th>movie_title</th>\n",
              "      <th>comb</th>\n",
              "    </tr>\n",
              "  </thead>\n",
              "  <tbody>\n",
              "    <tr>\n",
              "      <th>0</th>\n",
              "      <td>James Cameron</td>\n",
              "      <td>CCH Pounder</td>\n",
              "      <td>Joel David Moore</td>\n",
              "      <td>Wes Studi</td>\n",
              "      <td>Action Adventure Fantasy Sci-Fi</td>\n",
              "      <td>avatar</td>\n",
              "      <td>CCH Pounder Joel David Moore Wes Studi James C...</td>\n",
              "    </tr>\n",
              "    <tr>\n",
              "      <th>1</th>\n",
              "      <td>Gore Verbinski</td>\n",
              "      <td>Johnny Depp</td>\n",
              "      <td>Orlando Bloom</td>\n",
              "      <td>Jack Davenport</td>\n",
              "      <td>Action Adventure Fantasy</td>\n",
              "      <td>pirates of the caribbean: at world's end</td>\n",
              "      <td>Johnny Depp Orlando Bloom Jack Davenport Gore ...</td>\n",
              "    </tr>\n",
              "    <tr>\n",
              "      <th>2</th>\n",
              "      <td>Sam Mendes</td>\n",
              "      <td>Christoph Waltz</td>\n",
              "      <td>Rory Kinnear</td>\n",
              "      <td>Stephanie Sigman</td>\n",
              "      <td>Action Adventure Thriller</td>\n",
              "      <td>spectre</td>\n",
              "      <td>Christoph Waltz Rory Kinnear Stephanie Sigman ...</td>\n",
              "    </tr>\n",
              "    <tr>\n",
              "      <th>3</th>\n",
              "      <td>Christopher Nolan</td>\n",
              "      <td>Tom Hardy</td>\n",
              "      <td>Christian Bale</td>\n",
              "      <td>Joseph Gordon-Levitt</td>\n",
              "      <td>Action Thriller</td>\n",
              "      <td>the dark knight rises</td>\n",
              "      <td>Tom Hardy Christian Bale Joseph Gordon-Levitt ...</td>\n",
              "    </tr>\n",
              "    <tr>\n",
              "      <th>4</th>\n",
              "      <td>Doug Walker</td>\n",
              "      <td>Doug Walker</td>\n",
              "      <td>Rob Walker</td>\n",
              "      <td>unknown</td>\n",
              "      <td>Documentary</td>\n",
              "      <td>star wars: episode vii - the force awakens    ...</td>\n",
              "      <td>Doug Walker Rob Walker unknown Doug Walker Doc...</td>\n",
              "    </tr>\n",
              "  </tbody>\n",
              "</table>\n",
              "</div>\n",
              "      <button class=\"colab-df-convert\" onclick=\"convertToInteractive('df-6a8d2b74-4bb8-40f8-a763-0b29514c8e7f')\"\n",
              "              title=\"Convert this dataframe to an interactive table.\"\n",
              "              style=\"display:none;\">\n",
              "        \n",
              "  <svg xmlns=\"http://www.w3.org/2000/svg\" height=\"24px\"viewBox=\"0 0 24 24\"\n",
              "       width=\"24px\">\n",
              "    <path d=\"M0 0h24v24H0V0z\" fill=\"none\"/>\n",
              "    <path d=\"M18.56 5.44l.94 2.06.94-2.06 2.06-.94-2.06-.94-.94-2.06-.94 2.06-2.06.94zm-11 1L8.5 8.5l.94-2.06 2.06-.94-2.06-.94L8.5 2.5l-.94 2.06-2.06.94zm10 10l.94 2.06.94-2.06 2.06-.94-2.06-.94-.94-2.06-.94 2.06-2.06.94z\"/><path d=\"M17.41 7.96l-1.37-1.37c-.4-.4-.92-.59-1.43-.59-.52 0-1.04.2-1.43.59L10.3 9.45l-7.72 7.72c-.78.78-.78 2.05 0 2.83L4 21.41c.39.39.9.59 1.41.59.51 0 1.02-.2 1.41-.59l7.78-7.78 2.81-2.81c.8-.78.8-2.07 0-2.86zM5.41 20L4 18.59l7.72-7.72 1.47 1.35L5.41 20z\"/>\n",
              "  </svg>\n",
              "      </button>\n",
              "      \n",
              "  <style>\n",
              "    .colab-df-container {\n",
              "      display:flex;\n",
              "      flex-wrap:wrap;\n",
              "      gap: 12px;\n",
              "    }\n",
              "\n",
              "    .colab-df-convert {\n",
              "      background-color: #E8F0FE;\n",
              "      border: none;\n",
              "      border-radius: 50%;\n",
              "      cursor: pointer;\n",
              "      display: none;\n",
              "      fill: #1967D2;\n",
              "      height: 32px;\n",
              "      padding: 0 0 0 0;\n",
              "      width: 32px;\n",
              "    }\n",
              "\n",
              "    .colab-df-convert:hover {\n",
              "      background-color: #E2EBFA;\n",
              "      box-shadow: 0px 1px 2px rgba(60, 64, 67, 0.3), 0px 1px 3px 1px rgba(60, 64, 67, 0.15);\n",
              "      fill: #174EA6;\n",
              "    }\n",
              "\n",
              "    [theme=dark] .colab-df-convert {\n",
              "      background-color: #3B4455;\n",
              "      fill: #D2E3FC;\n",
              "    }\n",
              "\n",
              "    [theme=dark] .colab-df-convert:hover {\n",
              "      background-color: #434B5C;\n",
              "      box-shadow: 0px 1px 3px 1px rgba(0, 0, 0, 0.15);\n",
              "      filter: drop-shadow(0px 1px 2px rgba(0, 0, 0, 0.3));\n",
              "      fill: #FFFFFF;\n",
              "    }\n",
              "  </style>\n",
              "\n",
              "      <script>\n",
              "        const buttonEl =\n",
              "          document.querySelector('#df-6a8d2b74-4bb8-40f8-a763-0b29514c8e7f button.colab-df-convert');\n",
              "        buttonEl.style.display =\n",
              "          google.colab.kernel.accessAllowed ? 'block' : 'none';\n",
              "\n",
              "        async function convertToInteractive(key) {\n",
              "          const element = document.querySelector('#df-6a8d2b74-4bb8-40f8-a763-0b29514c8e7f');\n",
              "          const dataTable =\n",
              "            await google.colab.kernel.invokeFunction('convertToInteractive',\n",
              "                                                     [key], {});\n",
              "          if (!dataTable) return;\n",
              "\n",
              "          const docLinkHtml = 'Like what you see? Visit the ' +\n",
              "            '<a target=\"_blank\" href=https://colab.research.google.com/notebooks/data_table.ipynb>data table notebook</a>'\n",
              "            + ' to learn more about interactive tables.';\n",
              "          element.innerHTML = '';\n",
              "          dataTable['output_type'] = 'display_data';\n",
              "          await google.colab.output.renderOutput(dataTable, element);\n",
              "          const docLink = document.createElement('div');\n",
              "          docLink.innerHTML = docLinkHtml;\n",
              "          element.appendChild(docLink);\n",
              "        }\n",
              "      </script>\n",
              "    </div>\n",
              "  </div>\n",
              "  "
            ]
          },
          "metadata": {},
          "execution_count": 5
        }
      ]
    },
    {
      "cell_type": "code",
      "source": [
        "tfidf = TfidfVectorizer(stop_words='english')\n",
        "movies['comb'] = movies['comb'].fillna('')\n",
        "#Construct the required TF-IDF matrix by applying the fit_transform method on the overview feature\n",
        "overview_matrix = tfidf.fit_transform(movies['comb'])\n",
        "\n",
        "#Output the shape of tfidf_matrix\n",
        "overview_matrix.shape"
      ],
      "metadata": {
        "colab": {
          "base_uri": "https://localhost:8080/"
        },
        "id": "aEJG9GBzoXzd",
        "outputId": "f57b8f16-5340-4f39-d69b-bafaf66362e1"
      },
      "execution_count": null,
      "outputs": [
        {
          "output_type": "execute_result",
          "data": {
            "text/plain": [
              "(6010, 10486)"
            ]
          },
          "metadata": {},
          "execution_count": 6
        }
      ]
    },
    {
      "cell_type": "code",
      "source": [
        "import joblib"
      ],
      "metadata": {
        "id": "rdxkDRRI54hb"
      },
      "execution_count": null,
      "outputs": []
    },
    {
      "cell_type": "code",
      "source": [
        "joblib.dump(tfidf,\"./vector.pkl\")"
      ],
      "metadata": {
        "colab": {
          "base_uri": "https://localhost:8080/"
        },
        "id": "uh7pqgdT58sX",
        "outputId": "6fe7a022-49aa-476a-a687-7c29de9ca8c7"
      },
      "execution_count": null,
      "outputs": [
        {
          "output_type": "execute_result",
          "data": {
            "text/plain": [
              "['./vector.pkl']"
            ]
          },
          "metadata": {},
          "execution_count": 12
        }
      ]
    },
    {
      "cell_type": "code",
      "source": [
        "similarity_matrix = linear_kernel(overview_matrix,overview_matrix)\n",
        "similarity_matrix"
      ],
      "metadata": {
        "colab": {
          "base_uri": "https://localhost:8080/"
        },
        "id": "nd9kiD1AoY9T",
        "outputId": "b4075218-af77-4f98-96d3-64ce2c43f7a0"
      },
      "execution_count": null,
      "outputs": [
        {
          "output_type": "execute_result",
          "data": {
            "text/plain": [
              "array([[1.        , 0.06147769, 0.03300498, ..., 0.        , 0.        ,\n",
              "        0.        ],\n",
              "       [0.06147769, 1.        , 0.0334425 , ..., 0.        , 0.        ,\n",
              "        0.        ],\n",
              "       [0.03300498, 0.0334425 , 1.        , ..., 0.        , 0.        ,\n",
              "        0.        ],\n",
              "       ...,\n",
              "       [0.        , 0.        , 0.        , ..., 1.        , 0.00738438,\n",
              "        0.00640282],\n",
              "       [0.        , 0.        , 0.        , ..., 0.00738438, 1.        ,\n",
              "        0.00765886],\n",
              "       [0.        , 0.        , 0.        , ..., 0.00640282, 0.00765886,\n",
              "        1.        ]])"
            ]
          },
          "metadata": {},
          "execution_count": 7
        }
      ]
    },
    {
      "cell_type": "code",
      "source": [
        ""
      ],
      "metadata": {
        "id": "TPCJCc4058Bq"
      },
      "execution_count": null,
      "outputs": []
    },
    {
      "cell_type": "code",
      "source": [
        "mapping = pd.Series(movies.index,index = movies['movie_title'])\n",
        "\n",
        "mapping.to_csv(\"Movie_title.csv\")"
      ],
      "metadata": {
        "id": "rZnuRIfysh9D"
      },
      "execution_count": null,
      "outputs": []
    },
    {
      "cell_type": "code",
      "source": [
        "def recommend_movies_based_on_plot(movie_input):\n",
        "  movie_index = mapping[movie_input]\n",
        "  similarity_score = list(enumerate(similarity_matrix[movie_index]))\n",
        "  similarity_score = sorted(similarity_score, key=lambda x: x[1], reverse=True)\n",
        "  similarity_score = similarity_score[1:15]\n",
        "  movie_indices = [i[0] for i in similarity_score]\n",
        "  return (movies['movie_title'].iloc[movie_indices])\n"
      ],
      "metadata": {
        "id": "aFo_mwWhsrGX"
      },
      "execution_count": null,
      "outputs": []
    },
    {
      "cell_type": "code",
      "source": [
        "recommend_movies_based_on_plot('toy story')"
      ],
      "metadata": {
        "colab": {
          "base_uri": "https://localhost:8080/"
        },
        "id": "odIAELgKtYgY",
        "outputId": "053ccae5-7240-407f-fe9e-33ef9d187f04"
      },
      "execution_count": null,
      "outputs": [
        {
          "output_type": "execute_result",
          "data": {
            "text/plain": [
              "318                   toy story 2\n",
              "1043                 a bug's life\n",
              "541                          cars\n",
              "36                    toy story 3\n",
              "48                          brave\n",
              "216                monsters, inc.\n",
              "34                         cars 2\n",
              "332     atlantis: the lost empire\n",
              "281                   cloud atlas\n",
              "106                   ratatouille\n",
              "2295                          big\n",
              "50                         wall·e\n",
              "1588                 larry crowne\n",
              "4050           that thing you do!\n",
              "Name: movie_title, dtype: object"
            ]
          },
          "metadata": {},
          "execution_count": 17
        }
      ]
    },
    {
      "cell_type": "code",
      "source": [
        "movie_indices = [0,1,2,3,4,5,6,7,8,10,11,12,23,45]"
      ],
      "metadata": {
        "id": "7rT1tnu_-VEs"
      },
      "execution_count": null,
      "outputs": []
    },
    {
      "cell_type": "code",
      "source": [
        "movies['movie_title'].iloc[movie_indices]"
      ],
      "metadata": {
        "id": "wEzRs3bK-J3X"
      },
      "execution_count": null,
      "outputs": []
    },
    {
      "cell_type": "code",
      "source": [
        "import pandas \n",
        "import joblib\n",
        "import numpy \n",
        "\n",
        "\n",
        "class movie_recommend:\n",
        "  def __init__(self):\n",
        "    self.movies = pd.read_csv('main_data.csv')\n",
        "    Tfidf = joblib.load('./vector.pkl')\n",
        "    self.movies['comb'] = self.movies['comb'].fillna('')\n",
        "    overview_matrix = Tfidf.fit_transform(movies['comb'])\n",
        "    self.similarity_matrix = linear_kernel(overview_matrix,overview_matrix)\n",
        "    self.mapping = pd.Series(self.movies.index,index = self.movies['movie_title'])\n",
        "\t\t\n",
        "  def recommend_movies_based_on_plot(self,movie_input):\n",
        "   movie_index = self.mapping[movie_input]\n",
        "   similarity_score = list(enumerate(self.similarity_matrix[movie_index]))\n",
        "   similarity_score = sorted(similarity_score, key=lambda x: x[1], reverse=True)\n",
        "   similarity_score = similarity_score[1:15]\n",
        "   movie_indices = [i[0] for i in similarity_score]\n",
        "   return (movies['movie_title'].iloc[movie_indices].values[0:10])\n",
        "\n",
        "\t\t"
      ],
      "metadata": {
        "id": "wCLuLCvR6ZqV"
      },
      "execution_count": null,
      "outputs": []
    },
    {
      "cell_type": "code",
      "source": [
        "movie = movie_recommend()\n",
        "movie.recommend_movies_based_on_plot('toy story')"
      ],
      "metadata": {
        "id": "X5sARhqa9BG8",
        "colab": {
          "base_uri": "https://localhost:8080/"
        },
        "outputId": "c869866e-50b0-4cc3-bfad-7892b597ed11"
      },
      "execution_count": null,
      "outputs": [
        {
          "output_type": "execute_result",
          "data": {
            "text/plain": [
              "array(['toy story 2', \"a bug's life\", 'cars', 'toy story 3', 'brave',\n",
              "       'monsters, inc.', 'cars 2', 'atlantis: the lost empire',\n",
              "       'cloud atlas', 'ratatouille'], dtype=object)"
            ]
          },
          "metadata": {},
          "execution_count": 27
        }
      ]
    },
    {
      "cell_type": "code",
      "source": [
        ""
      ],
      "metadata": {
        "id": "913lglTm-D6m"
      },
      "execution_count": null,
      "outputs": []
    }
  ]
}